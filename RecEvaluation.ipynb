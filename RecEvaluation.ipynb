{
 "cells": [
  {
   "cell_type": "markdown",
   "metadata": {},
   "source": [
    "## Evaluate the Performance of the Recommender System\n",
    "### Import All Needed Packages"
   ]
  },
  {
   "cell_type": "code",
   "execution_count": null,
   "metadata": {},
   "outputs": [],
   "source": [
    "import pandas as pd\n",
    "import numpy as np\n",
    "import seaborn as sns\n",
    "import matplotlib.pyplot as plt\n",
    "\n",
    "# Import Packages for Spark MLlib\n",
    "from pyspark.ml.tuning import CrossValidator, ParamGridBuilder, TrainValidationSplit\n",
    "from pyspark.mllib.evaluation import RegressionMetrics, RankingMetrics\n",
    "from sklearn.metrics import ndcg_score\n",
    "from pyspark.ml.recommendation import ALS\n",
    "from pyspark.sql.session import SparkSession\n",
    "from pyspark.context import SparkContext\n",
    "from pyspark.sql.functions import explode\n",
    "from sklearn.metrics import ndcg_score\n",
    "import pickle\n",
    "import random\n",
    "sc = SparkContext('local')\n",
    "spark = SparkSession(sc)"
   ]
  },
  {
   "cell_type": "markdown",
   "metadata": {},
   "source": [
    "### Read Main Dataset"
   ]
  },
  {
   "cell_type": "code",
   "execution_count": null,
   "metadata": {},
   "outputs": [],
   "source": [
    "df = pd.read_csv(\"usersha1-artmbid-artname-plays.tsv\", sep='\\t', header = None)\n",
    "df.columns = ['userId', 'artistId', 'artist', 'plays']"
   ]
  },
  {
   "cell_type": "markdown",
   "metadata": {},
   "source": [
    "### Read Dictionary of Selected Users with Dominant Music Preferences"
   ]
  },
  {
   "cell_type": "code",
   "execution_count": null,
   "metadata": {},
   "outputs": [],
   "source": [
    "with open('selected_user.pkl', 'rb') as f:\n",
    "    selected_user = pickle.load(f)\n",
    "selected_user_list = list(selected_user.keys())"
   ]
  },
  {
   "cell_type": "code",
   "execution_count": null,
   "metadata": {},
   "outputs": [],
   "source": [
    "# Group users depending on their music preferences\n",
    "ir = [user for user in selected_user_list if selected_user[user] == 'I&R']\n",
    "er = [user for user in selected_user_list if selected_user[user] == 'E&R']\n",
    "rc = [user for user in selected_user_list if selected_user[user] == 'R&C']\n",
    "uc = [user for user in selected_user_list if selected_user[user] == 'U&C']"
   ]
  },
  {
   "cell_type": "code",
   "execution_count": null,
   "metadata": {},
   "outputs": [],
   "source": [
    "# Sample user with same proportions in each music preference group\n",
    "k = 14500\n",
    "sample_user_ir = random.sample(ir, k)\n",
    "sample_user_er = random.sample(er, k)\n",
    "sample_user_rc = random.sample(rc, k)\n",
    "sample_user_uc = random.sample(uc, k)"
   ]
  },
  {
   "cell_type": "code",
   "execution_count": null,
   "metadata": {},
   "outputs": [],
   "source": [
    "# Total sample user\n",
    "sample_user = sample_user_ir + sample_user_er + sample_user_rc + sample_user_uc"
   ]
  },
  {
   "cell_type": "code",
   "execution_count": null,
   "metadata": {},
   "outputs": [],
   "source": [
    "# Read back the selected users from the previous pipeline for recommendation system evaluation\n",
    "data = df[df['userId'].isin(sample_user)]"
   ]
  },
  {
   "cell_type": "code",
   "execution_count": null,
   "metadata": {},
   "outputs": [],
   "source": [
    "print(\"The remaining number of records: \", len(data))\n",
    "print(\"The remaining number of users: \", len(data['userId'].unique()))\n",
    "print(\"The remaining number of artists: \", len(data['artistId'].unique()))"
   ]
  },
  {
   "cell_type": "code",
   "execution_count": null,
   "metadata": {},
   "outputs": [],
   "source": [
    "# Map userId and artistId to integers (assign integers to replace the userId)\n",
    "userId_address = data['userId'].unique()\n",
    "userId_dict = dict(zip(userId_address, range(len(userId_address))))\n",
    "data.loc[:, 'userId'] = data.loc[:, 'userId'].map(userId_dict)\n",
    "\n",
    "\n",
    "artistId_address = data['artistId'].unique()\n",
    "artistId_dict = dict(zip(artistId_address, range(len(artistId_address))))\n",
    "data.loc[:, 'artistId'] = data.loc[:, 'artistId'].map(artistId_dict)\n",
    "# Drop the column of artist for the modeling \n",
    "data = data.drop(['artist'], axis=1)"
   ]
  },
  {
   "cell_type": "markdown",
   "metadata": {},
   "source": [
    "## Apply Spark ALS model on the dataset"
   ]
  },
  {
   "cell_type": "code",
   "execution_count": null,
   "metadata": {},
   "outputs": [],
   "source": [
    "# Split the testing data into training and testing\n",
    "training_df = data.groupby(\"userId\").sample(frac=0.8)\n",
    "test_df = data.drop(training_df.index)"
   ]
  },
  {
   "cell_type": "code",
   "execution_count": null,
   "metadata": {},
   "outputs": [],
   "source": [
    "# Split Dataset into training and testing \n",
    "training = spark.createDataFrame(training_df)\n",
    "test = spark.createDataFrame(test_df)"
   ]
  },
  {
   "cell_type": "code",
   "execution_count": null,
   "metadata": {},
   "outputs": [],
   "source": [
    "# General Model with default parameters \n",
    "als = ALS(userCol=\"userId\", itemCol=\"artistId\", ratingCol=\"plays\",\n",
    "          implicitPrefs=True)\n",
    "model = als.fit(training)\n",
    "predictions = model.transform(test)\n",
    "pred_df = predictions.toPandas()"
   ]
  },
  {
   "cell_type": "code",
   "execution_count": null,
   "metadata": {},
   "outputs": [],
   "source": [
    "pred_df = predictions.toPandas()\n",
    "pred_df = pred_df.dropna()"
   ]
  },
  {
   "cell_type": "markdown",
   "metadata": {},
   "source": [
    "### Use NDCG to evaluate the performance among different groups of users"
   ]
  },
  {
   "cell_type": "code",
   "execution_count": null,
   "metadata": {},
   "outputs": [],
   "source": [
    "# Drop the NAN given by Spark and drop out the rows with less than 5 records for each user \n",
    "t = pred_df.groupby(\"userId\").count()\n",
    "drop_userid = list(t[t['plays'] < 5].index)\n",
    "pred_df = pred_df[-pred_df['userId'].isin(drop_userid)]\n",
    "user = list(pred_df['userId'].unique())"
   ]
  },
  {
   "cell_type": "code",
   "execution_count": null,
   "metadata": {},
   "outputs": [],
   "source": [
    "# Assign relevance score to artists for each user\n",
    "relevance = [1.0, 0.8, 0.6, 0.4, 0.2]\n",
    "all_individual_ndcg = {}\n",
    "for u in user:\n",
    "    dictionary = {}\n",
    "    record = pred_df[pred_df['userId'] == u]\n",
    "    actual_rank = record.sort_values(\"plays\", ascending = False)\n",
    "    actual_rank_artist = list(actual_rank['artistId'])\n",
    "    prediction_rank = record.sort_values(\"prediction\", ascending = False)\n",
    "    score = 1.0\n",
    "    n = len(actual_rank_artist)\n",
    "    for i in range(n):\n",
    "        if i > 4:\n",
    "            dictionary[actual_rank_artist[i]] = 0\n",
    "        else:\n",
    "            dictionary[actual_rank_artist[i]] = relevance[i]\n",
    "    score_list = np.asarray([prediction_rank['prediction'][0:5]])\n",
    "    artist_list = list(prediction_rank['artistId'][0:5])\n",
    "    relevance_list = []\n",
    "    for artist in artist_list:\n",
    "        relevance_list.append(dictionary.get(artist))\n",
    "    relevance_list = np.asarray([relevance_list])\n",
    "    individual_score = ndcg_score(relevance_list, score_list)\n",
    "    all_individual_ndcg[u] = individual_score"
   ]
  },
  {
   "cell_type": "code",
   "execution_count": null,
   "metadata": {},
   "outputs": [],
   "source": [
    "# Map the user id back to its original string\n",
    "new_userid_dict = {}\n",
    "for k, v in userId_dict.items():\n",
    "    new_userid_dict[v] = k"
   ]
  },
  {
   "cell_type": "code",
   "execution_count": null,
   "metadata": {},
   "outputs": [],
   "source": [
    "set(selected_user.values())"
   ]
  },
  {
   "cell_type": "code",
   "execution_count": null,
   "metadata": {},
   "outputs": [],
   "source": [
    "# Calculate the NDCG score for different groups of users depending on their music preferences\n",
    "music_preference = ['I&R', 'E&R', 'R&C', 'U&C']\n",
    "ndcg_dict = dict.fromkeys(music_preference, 0)\n",
    "num_dict = dict.fromkeys(music_preference, 0)\n",
    "for u in user:\n",
    "    user_string = new_userid_dict[u]\n",
    "    group = selected_user[user_string]\n",
    "    ndcg_dict[group] += all_individual_ndcg[u]\n",
    "    num_dict[group] += 1\n",
    "\n",
    "# NDCG score for each group\n",
    "ndcg_score = []\n",
    "for group in ndcg_dict.keys():\n",
    "    ndcg_total = ndcg_dict[group]\n",
    "    num_total = num_dict[group]\n",
    "    ndcg_i = ndcg_total/num_total\n",
    "    ndcg_score.append(ndcg_i)\n",
    "print(ndcg_score)"
   ]
  },
  {
   "cell_type": "code",
   "execution_count": null,
   "metadata": {},
   "outputs": [],
   "source": []
  }
 ],
 "metadata": {
  "kernelspec": {
   "display_name": "Python 3",
   "language": "python",
   "name": "python3"
  },
  "language_info": {
   "codemirror_mode": {
    "name": "ipython",
    "version": 3
   },
   "file_extension": ".py",
   "mimetype": "text/x-python",
   "name": "python",
   "nbconvert_exporter": "python",
   "pygments_lexer": "ipython3",
   "version": "3.7.4"
  }
 },
 "nbformat": 4,
 "nbformat_minor": 2
}
