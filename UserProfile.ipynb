{
 "cells": [
  {
   "cell_type": "markdown",
   "metadata": {},
   "source": [
    "## Personality Traits Derivation Pipeline\n",
    "\n",
    "### Import all needed packages "
   ]
  },
  {
   "cell_type": "code",
   "execution_count": null,
   "metadata": {},
   "outputs": [],
   "source": [
    "import pandas as pd\n",
    "import numpy as np\n",
    "import seaborn as sns\n",
    "import matplotlib.pyplot as plt\n",
    "import math\n",
    "import pickle"
   ]
  },
  {
   "cell_type": "markdown",
   "metadata": {},
   "source": [
    "### Dataset\n",
    "Load the main dataset with implicit ratings and do simple modifications on the dataset (dropping out the users with less than or equal to 30 ratings) "
   ]
  },
  {
   "cell_type": "code",
   "execution_count": null,
   "metadata": {},
   "outputs": [],
   "source": [
    "# Load Main Dataset\n",
    "df = pd.read_csv(\"usersha1-artmbid-artname-plays.tsv\", sep='\\t', header = None)\n",
    "df.columns = ['userId', 'artistId', 'artist', 'plays']"
   ]
  },
  {
   "cell_type": "code",
   "execution_count": null,
   "metadata": {},
   "outputs": [],
   "source": [
    "print(\"Total number of records: \", len(df))\n",
    "print(\"Number of unique users: \", len(df['userId'].unique()))\n",
    "print(\"Number of unique artists: \", len(df['artistId'].unique()))"
   ]
  },
  {
   "cell_type": "code",
   "execution_count": null,
   "metadata": {},
   "outputs": [],
   "source": [
    "# Drop out the users with less than 30 records on artists \n",
    "df = df.dropna()\n",
    "data = df.copy()\n",
    "user_rc = data.groupby(\"userId\").count()\n",
    "user_rc.reset_index(inplace = True)\n",
    "user_rc = user_rc.rename(columns = {\"artistId\": \"count\"})\n",
    "selectedu = user_rc.loc[user_rc['count'] >= 30, 'userId']\n",
    "data = data[data['userId'].isin(selectedu)]\n",
    "print(\"Number of unique userId after dropping out the one with less than 30 different artists: \",\n",
    "      len(data['userId'].unique()))\n",
    "print(\"Number of unique artists:\", len(data['artistId'].unique()))\n",
    "print(\"Number of records:\", len(data))\n"
   ]
  },
  {
   "cell_type": "markdown",
   "metadata": {},
   "source": [
    "### Get a list of artists in the data for future artist profiles building"
   ]
  },
  {
   "cell_type": "code",
   "execution_count": null,
   "metadata": {},
   "outputs": [],
   "source": [
    "artist_id_list = data['artistId'].unique()\n",
    "artist_name_list = data['artist'].unique()"
   ]
  },
  {
   "cell_type": "code",
   "execution_count": null,
   "metadata": {},
   "outputs": [],
   "source": [
    "print(\"The length of the artist id list is: \", len(artist_id_list))\n",
    "print(\"The length of the artist name list is: \", len(artist_name_list))"
   ]
  },
  {
   "cell_type": "markdown",
   "metadata": {},
   "source": [
    "\n",
    "### Match Artist Names\n",
    "\n",
    "Next, we are going to match all artist names associated with the same artist id to be the first one that appears. \n"
   ]
  },
  {
   "cell_type": "code",
   "execution_count": null,
   "metadata": {
    "scrolled": false
   },
   "outputs": [],
   "source": [
    "checkdata = data.groupby('artistId').first()"
   ]
  },
  {
   "cell_type": "code",
   "execution_count": null,
   "metadata": {},
   "outputs": [],
   "source": [
    "key_id_list = list(checkdata.index)\n",
    "value_name_list = checkdata['artist']\n",
    "dictionary = dict(zip(key_id_list, value_name_list))"
   ]
  },
  {
   "cell_type": "code",
   "execution_count": null,
   "metadata": {},
   "outputs": [],
   "source": [
    "id_list = list(data['artistId'])\n",
    "artist_list = []\n",
    "for i in range(len(id_list)):\n",
    "    id_ind = id_list[i]\n",
    "    artist = dictionary.get(id_ind)\n",
    "    artist_list.append(artist)\n",
    "data['artist'] = artist_list"
   ]
  },
  {
   "cell_type": "code",
   "execution_count": null,
   "metadata": {},
   "outputs": [],
   "source": [
    "len(data['artistId'].unique())\n",
    "artist_id_list = data['artistId'].unique()\n",
    "artist_name_list = data['artist'].unique()"
   ]
  },
  {
   "cell_type": "code",
   "execution_count": null,
   "metadata": {},
   "outputs": [],
   "source": [
    "print(\"The length of the artist id list is: \", len(artist_id_list))\n",
    "print(\"The length of the artist name list is: \", len(artist_name_list))"
   ]
  },
  {
   "cell_type": "markdown",
   "metadata": {},
   "source": [
    "The reason lying behind the unmatching between artist Id number and artist name number is because of the inconsistent of name noting in the dataset. For one artist, it might have special characters for foreign artists or abbreviations. Because of the generalization of Spotify API, we are able to detect the information related to a user even with the variations of their names. Therefore, we continue on using the names instead of id. (The reason why we don't use id is because of the unmatch between Musicbrainz id and Spotify artist id). "
   ]
  },
  {
   "cell_type": "markdown",
   "metadata": {},
   "source": [
    "### Utilize Spotify API to retrieve artist genres "
   ]
  },
  {
   "cell_type": "code",
   "execution_count": null,
   "metadata": {},
   "outputs": [],
   "source": [
    "import spotipy\n",
    "from spotipy.oauth2 import SpotifyClientCredentials\n",
    "cid = 'your own cid codes for Spotify API'\n",
    "secret = 'your own credentials for Spotify API'\n",
    "client_credentials_manager = SpotifyClientCredentials(client_id=cid, client_secret=secret)\n",
    "sp = spotipy.Spotify(client_credentials_manager=client_credentials_manager)"
   ]
  },
  {
   "cell_type": "code",
   "execution_count": null,
   "metadata": {},
   "outputs": [],
   "source": [
    "old_new_name = {}\n",
    "name_genre = {}\n",
    "for i in range(len(artist_name_list)):\n",
    "    name = artist_name_list[i]\n",
    "    artist_results = sp.search(q=name, type='artist', limit=1)\n",
    "    if not artist_results['artists']['items']:\n",
    "        genre_ind = ''\n",
    "        artist_name = name\n",
    "    else: \n",
    "        for i, t in enumerate(artist_results['artists']['items']):\n",
    "            genre_ind = t['genres']\n",
    "            artist_name = t['name']\n",
    "    old_new_name[name] = artist_name\n",
    "    name_genre[artist_name] = genre_ind"
   ]
  },
  {
   "cell_type": "code",
   "execution_count": null,
   "metadata": {},
   "outputs": [],
   "source": [
    "# Save the results as pickle files for future used\n",
    "with open('old_new_name.pkl', 'wb') as f:\n",
    "    pickle.dump(old_new_name, f)\n",
    "# Restore the stored variables of old_new_name and name_genre dictionaries\n",
    "with open('old_new_name.pkl', 'rb') as f:\n",
    "    old_new_name = pickle.load(f)\n",
    "with open('name_genre.pkl', 'rb') as f:\n",
    "    name_genre = pickle.load(f)"
   ]
  },
  {
   "cell_type": "markdown",
   "metadata": {},
   "source": [
    "### Standardization of names & Attach corresponding genres"
   ]
  },
  {
   "cell_type": "code",
   "execution_count": null,
   "metadata": {},
   "outputs": [],
   "source": [
    "# Replace old names (with different variations with the standard name)\n",
    "original_name_list = list(data['artist'])\n",
    "new_name_list = []\n",
    "for i in range(len(original_name_list)):\n",
    "    old = original_name_list[i]\n",
    "    new = old_new_name.get(old)\n",
    "    new_name_list.append(new)\n",
    "data['artist'] = new_name_list\n",
    "data = data.dropna()"
   ]
  },
  {
   "cell_type": "markdown",
   "metadata": {},
   "source": [
    "#### Genre Generalization\n",
    "Generalize the genres given by Spotify API to the general one for future personality derivation"
   ]
  },
  {
   "cell_type": "code",
   "execution_count": null,
   "metadata": {},
   "outputs": [],
   "source": [
    "unique_genre = []\n",
    "for genre_l in name_genre.values():\n",
    "    for genre_i in genre_l:\n",
    "        unique_genre.append(genre_i)\n",
    "unique_genre = set(unique_genre)"
   ]
  },
  {
   "cell_type": "code",
   "execution_count": null,
   "metadata": {},
   "outputs": [],
   "source": [
    "print(\"Number of unique genres in current dataset: \", len(unique_genre))"
   ]
  },
  {
   "cell_type": "code",
   "execution_count": null,
   "metadata": {},
   "outputs": [],
   "source": [
    "large_genre_dict = {}\n",
    "large_genre_dict['classical'] = 'classic'\n",
    "large_genre_dict['film'] = 'movie'\n",
    "large_genre_dict['background'] = 'movie'\n",
    "large_genre_dict['soul'] = 'r&b'\n",
    "large_genre_dict['rap'] = 'hip hop'\n",
    "large_key = large_genre_dict.keys()"
   ]
  },
  {
   "cell_type": "code",
   "execution_count": null,
   "metadata": {},
   "outputs": [],
   "source": [
    "# Selected 11 lists\n",
    "standard_genre = ['blues', 'jazz', 'classic', 'classical', 'rock', \n",
    "                  'metal', 'alternative', 'pop', 'classic',\n",
    "                 'film', 'movie', 'background', 'soul', 'r&b', 'rap', 'hip hop',\n",
    "                 'electronic']\n",
    "modified_genre = ['blues', 'jazz', 'classic', 'rock', 'metal', 'alternative', 'pop', 'movie',\n",
    "                 'r&b', 'hip hop', 'electronic']"
   ]
  },
  {
   "cell_type": "code",
   "execution_count": null,
   "metadata": {},
   "outputs": [],
   "source": [
    "# Modify the genre list for each artist using the standardization\n",
    "for key in name_genre:\n",
    "    current_genre_list = name_genre.get(key)\n",
    "    new_genre_list = []\n",
    "    for i in current_genre_list:\n",
    "        for element in standard_genre:\n",
    "            if element in i:\n",
    "                if element in large_key:\n",
    "                    element = large_genre_dict.get(element)\n",
    "                new_genre_list.append(element)\n",
    "    if new_genre_list:\n",
    "        new_genre_list = list(set(new_genre_list))\n",
    "    name_genre[key] = new_genre_list"
   ]
  },
  {
   "cell_type": "code",
   "execution_count": null,
   "metadata": {},
   "outputs": [],
   "source": [
    "# Attach genres for each artist to the dataset\n",
    "new_name_list = list(data['artist'])\n",
    "genre_list = []\n",
    "for i in range(len(data)):\n",
    "    name = new_name_list[i]\n",
    "    genre = name_genre.get(name)\n",
    "    genre_list.append(genre)\n",
    "data['genres'] = genre_list"
   ]
  },
  {
   "cell_type": "code",
   "execution_count": null,
   "metadata": {},
   "outputs": [],
   "source": [
    "# Drop the rows with no artist genre assignemnt\n",
    "data = data[data['genres'].map(lambda d: len(d)) > 0]"
   ]
  },
  {
   "cell_type": "code",
   "execution_count": null,
   "metadata": {},
   "outputs": [],
   "source": [
    "data['total'] = data['plays'] * data['genres'].str.len()"
   ]
  },
  {
   "cell_type": "code",
   "execution_count": null,
   "metadata": {},
   "outputs": [],
   "source": [
    "total = data.groupby('userId')['total'].sum()\n",
    "data = data.drop('total', axis = 1)"
   ]
  },
  {
   "cell_type": "markdown",
   "metadata": {},
   "source": [
    "#### Save the dataframe of user-genre-profile as csv for future used"
   ]
  },
  {
   "cell_type": "code",
   "execution_count": null,
   "metadata": {},
   "outputs": [],
   "source": [
    "# Save the data with genres attached for each user for \n",
    "data.to_csv(\"genre_data.csv\", index = False)"
   ]
  },
  {
   "cell_type": "code",
   "execution_count": null,
   "metadata": {},
   "outputs": [],
   "source": [
    "# Change the count to decimal\n",
    "expand_data = data.explode('genres')\n",
    "ed1 = expand_data.groupby(['userId', 'genres']).sum()"
   ]
  },
  {
   "cell_type": "code",
   "execution_count": null,
   "metadata": {},
   "outputs": [],
   "source": [
    "# Derive the genres score for each user\n",
    "# Take approximately 2 hours\n",
    "user_list = list(data['userId'].unique())\n",
    "user_dict = {}\n",
    "for user in user_list:\n",
    "    dictionary = dict.fromkeys(modified_genre, 0)\n",
    "    total_ind = total[user]\n",
    "    ed2 = ed1.loc[user]['plays'] / total_ind\n",
    "    d = ed2.to_dict()\n",
    "    dictionary.update(d)\n",
    "    user_dict[user] = dictionary"
   ]
  },
  {
   "cell_type": "markdown",
   "metadata": {},
   "source": [
    "### Derive Music Preferences for All Users"
   ]
  },
  {
   "cell_type": "code",
   "execution_count": null,
   "metadata": {},
   "outputs": [],
   "source": [
    "# Derive Music Preference from Genres\n",
    "music_preference = ['R&C', 'I&R', 'U&C', 'E&R']\n",
    "user_music_pref = {}\n",
    "dominant_pref = {}\n",
    "\n",
    "# Use the standardized regression weights to calculate the music preference score\n",
    "for user in user_list:\n",
    "    dictionary = user_dict[user]\n",
    "    preference_dict = dict.fromkeys(music_preference, 0)\n",
    "    rc = (0.93 * dictionary['blues'] + 0.73 * dictionary['jazz'] + 0.51 * dictionary['classic'])/3\n",
    "    ir = (0.83 * dictionary['rock'] + 0.74 * dictionary['metal'] + 0.58 * dictionary['alternative'])/3\n",
    "    uc = (0.63 * dictionary['pop'] + 0.4 * dictionary['movie'])/2\n",
    "    er = (0.95 * dictionary['r&b'] + 0.71 * dictionary['hip hop'] + 0.18 * dictionary['electronic'])/3\n",
    "    preference_dict['R&C'] = rc\n",
    "    preference_dict['I&R'] = ir\n",
    "    preference_dict['U&C'] = uc\n",
    "    preference_dict['E&R'] = er\n",
    "    user_music_pref[user] = preference_dict\n",
    "    index = np.argmax([rc, ir, uc, er])\n",
    "    dominant_preference = music_preference[index]\n",
    "    dominant_pref[user] = dominant_preference"
   ]
  },
  {
   "cell_type": "code",
   "execution_count": null,
   "metadata": {},
   "outputs": [],
   "source": [
    "dominant_count = [0, 0, 0, 0]\n",
    "for value in dominant_pref.values():\n",
    "    index = music_preference.index(value)\n",
    "    dominant_count[index] = dominant_count[index] + 1"
   ]
  },
  {
   "cell_type": "code",
   "execution_count": null,
   "metadata": {},
   "outputs": [],
   "source": [
    "print(\"The dominant music preferences count is: \")\n",
    "print(\"R&C: \", dominant_count[0])\n",
    "print(\"I&R: \", dominant_count[1])\n",
    "print(\"U&C: \", dominant_count[2])\n",
    "print(\"E&R: \", dominant_count[3])"
   ]
  },
  {
   "cell_type": "markdown",
   "metadata": {},
   "source": [
    "modified_genre = ['blues', 'jazz', 'classic', 'rock', 'metal', 'alternative', 'pop', 'movie',\n",
    "                 'r&b', 'hip hop', 'electronic']"
   ]
  },
  {
   "cell_type": "code",
   "execution_count": null,
   "metadata": {},
   "outputs": [],
   "source": [
    "with open('selected_user.pkl', 'wb') as f:\n",
    "    pickle.dump(dominant_pref, f)"
   ]
  }
 ],
 "metadata": {
  "kernelspec": {
   "display_name": "Python 3",
   "language": "python",
   "name": "python3"
  },
  "language_info": {
   "codemirror_mode": {
    "name": "ipython",
    "version": 3
   },
   "file_extension": ".py",
   "mimetype": "text/x-python",
   "name": "python",
   "nbconvert_exporter": "python",
   "pygments_lexer": "ipython3",
   "version": "3.7.4"
  }
 },
 "nbformat": 4,
 "nbformat_minor": 2
}
